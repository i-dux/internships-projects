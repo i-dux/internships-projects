{
 "cells": [
  {
   "cell_type": "code",
   "execution_count": 1,
   "metadata": {},
   "outputs": [],
   "source": [
    "import requests\n",
    "import json\n",
    "import pandas as pd"
   ]
  },
  {
   "cell_type": "markdown",
   "metadata": {},
   "source": [
    "Se puede obtener el listado completo de licitaciones aquí: https://desarrolladores.mercadopublico.cl/OCDS/Listado"
   ]
  },
  {
   "cell_type": "markdown",
   "metadata": {},
   "source": [
    "# Palabras claves"
   ]
  },
  {
   "cell_type": "code",
   "execution_count": 29,
   "metadata": {},
   "outputs": [],
   "source": [
    "def palabras_claves():     \n",
    "    palabras_claves = []\n",
    "    seguir = True\n",
    "    while seguir:\n",
    "        print('Escribe palabra clave o apreta 0 para terminar')\n",
    "        palabra = input()\n",
    "        if palabra != '0':\n",
    "            palabras_claves.append(palabra)\n",
    "        else:\n",
    "            seguir = False\n",
    "\n",
    "    palabras = []        \n",
    "\n",
    "    for elemento in palabras_claves:\n",
    "        ele = elemento.upper()\n",
    "        palabras.append(ele)\n",
    "    return palabras"
   ]
  },
  {
   "cell_type": "code",
   "execution_count": 30,
   "metadata": {},
   "outputs": [],
   "source": [
    "def tiene_claves(palabras, descripcion):     \n",
    "    descripcion = descripcion.upper()\n",
    "    \n",
    "    if len(palabras) == 0:\n",
    "        return False\n",
    "    \n",
    "    for elemento in palabras:\n",
    "        if elemento in descripcion:\n",
    "            return True\n",
    "    else:\n",
    "        return False"
   ]
  },
  {
   "cell_type": "markdown",
   "metadata": {},
   "source": [
    "# Hacer la consulta por año y mes"
   ]
  },
  {
   "cell_type": "code",
   "execution_count": 60,
   "metadata": {},
   "outputs": [
    {
     "name": "stdout",
     "output_type": "stream",
     "text": [
      "Escriba el año\n",
      "2021\n",
      "Escriba el mes como número del 1 al 12\n",
      "2\n",
      "Escriba el valor inicial de la consulta\n",
      "0\n",
      "Escriba el valor final de la consulta, recuerde que no pueden ser más de 1000 en total\n",
      "20\n"
     ]
    }
   ],
   "source": [
    "print('Escriba el año')\n",
    "año = input()\n",
    "print('Escriba el mes como número del 1 al 12')\n",
    "mes = input()\n",
    "\n",
    "if len(str(mes)) == 1:\n",
    "    mes = str(0) + str(mes)\n",
    "\n",
    "print('Escriba el valor inicial de la consulta')\n",
    "inicio = input()\n",
    "print('Escriba el valor final de la consulta, recuerde que no pueden ser más de 1000 en total')\n",
    "fin = input()"
   ]
  },
  {
   "cell_type": "code",
   "execution_count": 61,
   "metadata": {},
   "outputs": [],
   "source": [
    "consulta_str = \"https://api.mercadopublico.cl/APISOCDS/OCDS/listaOCDSAgnoMesTratoDirecto/\" + str(año) + '/' +\\\n",
    "                str(mes) + \"/\" + str(inicio) + \"/\" + str(fin)\n",
    "consulta = requests.get(consulta_str)"
   ]
  },
  {
   "cell_type": "markdown",
   "metadata": {},
   "source": [
    "**Obtener links de las distintas licitaciones**"
   ]
  },
  {
   "cell_type": "code",
   "execution_count": 62,
   "metadata": {},
   "outputs": [],
   "source": [
    "def jprint(obj):\n",
    "    text = json.dumps(obj, sort_keys = True, indent=4)\n",
    "    print(text)\n",
    "\n",
    "#jprint(consulta.json())\n",
    "\n",
    "datos = consulta.json()['data']\n",
    "cantidad = len(datos)\n",
    "\n",
    "licitaciones = []\n",
    "for x in range(0, cantidad):\n",
    "    link = datos[x]['urlAward']\n",
    "    licitaciones.append(link)"
   ]
  },
  {
   "cell_type": "markdown",
   "metadata": {},
   "source": [
    "**Obteniendo info de las licitaciones**"
   ]
  },
  {
   "cell_type": "code",
   "execution_count": 63,
   "metadata": {},
   "outputs": [
    {
     "name": "stdout",
     "output_type": "stream",
     "text": [
      "Escribe palabra clave o apreta 0 para terminar\n",
      "la\n",
      "Escribe palabra clave o apreta 0 para terminar\n",
      "0\n",
      "No coincide con lo que buscas\n",
      "No coincide con lo que buscas\n",
      "No coincide con lo que buscas\n",
      "coincide\n",
      "coincide\n",
      "coincide\n",
      "coincide\n",
      "coincide\n",
      "coincide\n",
      "coincide\n",
      "coincide\n",
      "coincide\n",
      "No coincide con lo que buscas\n",
      "No coincide con lo que buscas\n",
      "coincide\n",
      "coincide\n",
      "coincide\n",
      "coincide\n",
      "No coincide con lo que buscas\n",
      "No coincide con lo que buscas\n"
     ]
    }
   ],
   "source": [
    "df = pd.DataFrame(columns = ['Link','Entidad','Descripción','Valor','Status'])\n",
    "\n",
    "palabras = palabras_claves()\n",
    "\n",
    "for licitacion in licitaciones:\n",
    "    consulta = requests.get(licitacion)\n",
    "    resultado = consulta.json()\n",
    "    descripcion = resultado['releases'][0]['awards'][0]['description']\n",
    "    seguir = tiene_claves(palabras, descripcion)\n",
    "    \n",
    "    if seguir:\n",
    "        entidad = resultado['releases'][0]['parties'][0]['name']\n",
    "        valor = resultado['releases'][0]['awards'][0]['value']['amount']\n",
    "        status = resultado['releases'][0]['awards'][0]['status']\n",
    "        \n",
    "        \n",
    "        df = df.append({'Link': licitacion, 'Entidad': entidad, 'Descripción': descripcion,'Valor': valor,\\\n",
    "                        'Status': status},ignore_index = True)\n",
    "        print('coincide')\n",
    "    else:\n",
    "        print('No coincide con lo que buscas')"
   ]
  },
  {
   "cell_type": "code",
   "execution_count": 64,
   "metadata": {},
   "outputs": [],
   "source": [
    "df.to_csv('Licitaciones.csv', index = False)"
   ]
  },
  {
   "cell_type": "markdown",
   "metadata": {},
   "source": [
    "# Hacer consulta por id de licitación"
   ]
  },
  {
   "cell_type": "code",
   "execution_count": 26,
   "metadata": {},
   "outputs": [
    {
     "name": "stdout",
     "output_type": "stream",
     "text": [
      "Escriba id de la licitación\n",
      "2385-3-LE21\n"
     ]
    }
   ],
   "source": [
    "print('Escriba id de la licitación')\n",
    "id_lic = input()"
   ]
  },
  {
   "cell_type": "code",
   "execution_count": 27,
   "metadata": {},
   "outputs": [],
   "source": [
    "consulta_str = \"https://apis.mercadopublico.cl/OCDS/data/award/\" + str(id_lic)\n",
    "consulta = requests.get(consulta_str)"
   ]
  },
  {
   "cell_type": "code",
   "execution_count": 28,
   "metadata": {},
   "outputs": [
    {
     "name": "stdout",
     "output_type": "stream",
     "text": [
      "{\n",
      "    \"detail\": \"No se encontraron resultados.\",\n",
      "    \"status\": 404\n",
      "}\n"
     ]
    }
   ],
   "source": [
    "def jprint(obj):\n",
    "    text = json.dumps(obj, sort_keys = True, indent = 4)\n",
    "    print(text)\n",
    "\n",
    "jprint(consulta.json())"
   ]
  },
  {
   "cell_type": "code",
   "execution_count": null,
   "metadata": {},
   "outputs": [],
   "source": []
  }
 ],
 "metadata": {
  "kernelspec": {
   "display_name": "Python 3",
   "language": "python",
   "name": "python3"
  },
  "language_info": {
   "codemirror_mode": {
    "name": "ipython",
    "version": 3
   },
   "file_extension": ".py",
   "mimetype": "text/x-python",
   "name": "python",
   "nbconvert_exporter": "python",
   "pygments_lexer": "ipython3",
   "version": "3.7.6"
  }
 },
 "nbformat": 4,
 "nbformat_minor": 4
}
